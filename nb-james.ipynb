{
 "cells": [
  {
   "cell_type": "code",
   "execution_count": null,
   "id": "770b344d-30d6-445f-a64b-df2bfe1b4ebe",
   "metadata": {},
   "outputs": [],
   "source": [
    "# James comment"
   ]
  },
  {
   "cell_type": "code",
   "execution_count": null,
   "id": "6bb3b99e-edbb-47fd-bf0a-d98a9149b6e2",
   "metadata": {},
   "outputs": [],
   "source": [
    "# Comment Test 2"
   ]
  }
 ],
 "metadata": {
  "kernelspec": {
   "display_name": "Python 3 (ipykernel)",
   "language": "python",
   "name": "python3"
  },
  "language_info": {
   "codemirror_mode": {
    "name": "ipython",
    "version": 3
   },
   "file_extension": ".py",
   "mimetype": "text/x-python",
   "name": "python",
   "nbconvert_exporter": "python",
   "pygments_lexer": "ipython3",
   "version": "3.11.5"
  }
 },
 "nbformat": 4,
 "nbformat_minor": 5
}
