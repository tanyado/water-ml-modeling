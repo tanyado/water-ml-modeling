#tanya's change here
import pandas as pd
import numpy as np
pd.set_option('display.max_rows', 500)

df = pd.read_csv('data/asia-2024-03-13_20-20/samples.csv', sep=';', header=None)

df[0].unique()


df.head()



pd.set_option('display.max_rows', 500)

df[4].unique()


df[]
